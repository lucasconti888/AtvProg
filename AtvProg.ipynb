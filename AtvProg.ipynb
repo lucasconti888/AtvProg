{
  "nbformat": 4,
  "nbformat_minor": 0,
  "metadata": {
    "colab": {
      "provenance": []
    },
    "kernelspec": {
      "name": "python3",
      "display_name": "Python 3"
    },
    "language_info": {
      "name": "python"
    }
  },
  "cells": [
    {
      "cell_type": "code",
      "execution_count": null,
      "metadata": {
        "id": "u5RF8o9xRUXB"
      },
      "outputs": [],
      "source": [
        "import pandas as pd\n",
        "import numpy as np\n",
        "from sklearn.model_selection import train_test_split, GridSearchCV\n",
        "from sklearn.preprocessing import StandardScaler\n",
        "from sklearn.metrics import classification_report, roc_auc_score\n",
        "from tensorflow.keras.models import Sequential\n",
        "from tensorflow.keras.layers import Dense, Input\n",
        "from tensorflow.keras.wrappers.scikit_learn import KerasClassifier\n",
        "from tensorflow.keras.callbacks import EarlyStopping"
      ]
    },
    {
      "cell_type": "code",
      "source": [
        "file_path = '/content/drive/MyDrive/dados/creditcard.csv'\n",
        "\n",
        "df = pd.read_csv(file_path)\n",
        "\n",
        "scaler = StandardScaler()\n",
        "X = scaler.fit_transform(df.drop('Class', axis=1))\n",
        "y = df['Class']\n",
        "\n",
        "X_train, X_test, y_train, y_test = train_test_split(X, y, test_size=0.3, random_state=42)"
      ],
      "metadata": {
        "id": "N0wSkG7fRtnZ"
      },
      "execution_count": null,
      "outputs": []
    },
    {
      "cell_type": "code",
      "source": [
        "def create_model(optimizer='adam', init='glorot_uniform'):\n",
        "    model = Sequential()\n",
        "    model.add(Input(shape=(X_train.shape[1],)))\n",
        "    model.add(Dense(16, kernel_initializer=init, activation='relu'))\n",
        "    model.add(Dense(8, kernel_initializer=init, activation='relu'))\n",
        "    model.add(Dense(1, kernel_initializer=init, activation='sigmoid'))\n",
        "    model.compile(loss='binary_crossentropy', optimizer=optimizer, metrics=['accuracy'])\n",
        "    return model\n",
        "\n",
        "model = KerasClassifier(build_fn=create_model, verbose=0)"
      ],
      "metadata": {
        "id": "A7adP1gmR17W"
      },
      "execution_count": null,
      "outputs": []
    },
    {
      "cell_type": "code",
      "source": [
        "param_grid = {\n",
        "    'batch_size': [32, 64],\n",
        "    'epochs': [10, 20],\n",
        "    'optimizer': ['adam', 'rmsprop'],\n",
        "    'init': ['glorot_uniform', 'normal']\n",
        "}\n",
        "\n",
        "grid = GridSearchCV(estimator=model, param_grid=param_grid, scoring='roc_auc', cv=3)\n",
        "grid_result = grid.fit(X_train, y_train)\n",
        "\n",
        "best_model = grid_result.best_estimator_\n",
        "y_pred_best = best_model.predict(X_test)\n",
        "y_pred_prob_best = best_model.predict_proba(X_test)[:, 1]\n",
        "\n",
        "print(f\"Melhor combinação de parâmetros: {grid_result.best_params_}\")\n",
        "print(f\"Melhor AUC-ROC com Grid Search: {grid_result.best_score_}\")\n",
        "\n",
        "print(\"\\nModelo Otimizado:\")\n",
        "print(classification_report(y_test, (y_pred_prob_best > 0.5).astype(int)))\n",
        "print(\"AUC-ROC Otimizado:\", roc_auc_score(y_test, y_pred_prob_best))"
      ],
      "metadata": {
        "id": "wfGRYoOTR36L"
      },
      "execution_count": null,
      "outputs": []
    },
    {
      "cell_type": "code",
      "source": [
        "original_model = create_model()\n",
        "early_stopping = EarlyStopping(monitor='val_loss', patience=3, restore_best_weights=True)\n",
        "original_model.fit(X_train, y_train, epochs=20, batch_size=32, validation_data=(X_test, y_test), verbose=0, callbacks=[early_stopping])\n",
        "y_pred_original = original_model.predict(X_test)\n",
        "y_pred_prob_original = y_pred_original\n",
        "\n",
        "auc_roc_original = roc_auc_score(y_test, y_pred_prob_original)\n",
        "print(f\"AUC-ROC Modelo Original: {auc_roc_original}\")\n",
        "\n",
        "print(\"\\nComparação dos Resultados:\")\n",
        "print(f\"AUC-ROC Modelo Original: {auc_roc_original}\")\n",
        "print(f\"AUC-ROC Melhor Modelo Otimizado: {roc_auc_score(y_test, y_pred_prob_best)}\")"
      ],
      "metadata": {
        "id": "sYJkX4Z8T2BZ"
      },
      "execution_count": null,
      "outputs": []
    },
    {
      "cell_type": "markdown",
      "source": [
        "**Explicações e Melhorias:**\n",
        "Mais Neurônios e Camadas: O número de neurônios foi aumentado para dar ao modelo mais capacidade de aprender padrões complexos.\n",
        "\n",
        "**Grid Search:** O GridSearchCV é usado para encontrar a melhor combinação de hiperparâmetros com base em uma grade de valores. A métrica roc_auc é usada para avaliar os modelos durante a busca.\n",
        "\n",
        "**Validação Cruzada:** A validação cruzada (cv=3) é aplicada para melhorar a generalização do modelo.\n",
        "\n",
        "**Early Stopping:** O early stopping foi ajustado para ter paciência maior, permitindo mais treinamento se necessário.\n",
        "\n",
        "**Avaliação Completa:** Além da AUC-ROC, também é calculado o relatório de classificação completo para fornecer métricas adicionais como precisão, recall e F1-score.\n",
        "\n",
        "Essas mudanças devem fornecer uma comparação mais robusta entre o modelo original e o modelo otimizado, além de permitir um ajuste mais preciso dos hiperparâmetros."
      ],
      "metadata": {
        "id": "3X3kZGBHScLW"
      }
    }
  ]
}